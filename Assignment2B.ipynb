{
 "cells": [
  {
   "cell_type": "code",
   "execution_count": 1,
   "id": "5884f9ea-49be-454f-882e-fcff8bc173f5",
   "metadata": {},
   "outputs": [],
   "source": [
    "# Ramon Montoya\n",
    "# Assignment 2B \n",
    "\n",
    "# Importing the pandas library \n",
    "import pandas as pd"
   ]
  },
  {
   "cell_type": "code",
   "execution_count": 2,
   "id": "6a38b49d-ea7a-4746-8171-e725381aadc2",
   "metadata": {},
   "outputs": [],
   "source": [
    "# Loading the grocery dataset. \n",
    "df = pd.read_csv('grocery.csv')"
   ]
  },
  {
   "cell_type": "code",
   "execution_count": 3,
   "id": "3be34bf3-9e6e-4a01-969e-006f1c8f107d",
   "metadata": {},
   "outputs": [
    {
     "name": "stdout",
     "output_type": "stream",
     "text": [
      "                tem               Category Refrigeration Required  \\\n",
      "0    Macadamia Nuts          Miscellaneous                     No   \n",
      "1  Brussels Sprouts  Fruits and Vegetables                    Yes   \n",
      "2            Coffee              Beverages                     No   \n",
      "3       Maple Syrup      Snacks and Sweets                    Yes   \n",
      "4          Flaxseed          Miscellaneous                     No   \n",
      "\n",
      "   Weight (lbs)   Price Country of Origin  Manufacturer  \n",
      "0           1.0  $7.00      United States       Nut Co.  \n",
      "1           1.0  $2.00           Colombia    Veggie Co.  \n",
      "2           1.0  $5.00             Brazil  Beverage Co.  \n",
      "3           1.0  $4.00             Canada    Snacks Co.  \n",
      "4           1.0  $4.00             Canada      Seed Co.  \n"
     ]
    }
   ],
   "source": [
    "# Checking the dataframe\n",
    "print(df.head())"
   ]
  },
  {
   "cell_type": "code",
   "execution_count": 4,
   "id": "07b413a9-c972-4b42-b6d7-02cd493720a4",
   "metadata": {},
   "outputs": [
    {
     "name": "stdout",
     "output_type": "stream",
     "text": [
      "<class 'pandas.core.frame.DataFrame'>\n",
      "RangeIndex: 184 entries, 0 to 183\n",
      "Data columns (total 7 columns):\n",
      " #   Column                  Non-Null Count  Dtype  \n",
      "---  ------                  --------------  -----  \n",
      " 0   tem                     184 non-null    object \n",
      " 1   Category                184 non-null    object \n",
      " 2   Refrigeration Required  184 non-null    object \n",
      " 3   Weight (lbs)            184 non-null    float64\n",
      " 4   Price                   184 non-null    object \n",
      " 5   Country of Origin       184 non-null    object \n",
      " 6   Manufacturer            183 non-null    object \n",
      "dtypes: float64(1), object(6)\n",
      "memory usage: 10.2+ KB\n"
     ]
    }
   ],
   "source": [
    "# Summarize the dataframe \n",
    "df.info()"
   ]
  },
  {
   "cell_type": "code",
   "execution_count": 5,
   "id": "943bea91-6732-42fd-991d-d5d118d78c3c",
   "metadata": {},
   "outputs": [
    {
     "name": "stdout",
     "output_type": "stream",
     "text": [
      "                tem               Category Refrigeration Required  \\\n",
      "0    Macadamia Nuts          Miscellaneous                     No   \n",
      "1  Brussels Sprouts  Fruits and Vegetables                    Yes   \n",
      "2            Coffee              Beverages                     No   \n",
      "3       Maple Syrup      Snacks and Sweets                    Yes   \n",
      "4          Flaxseed          Miscellaneous                     No   \n",
      "\n",
      "   Weight (lbs)  Price Country of Origin  Manufacturer  \n",
      "0           1.0    7.0     United States       Nut Co.  \n",
      "1           1.0    2.0          Colombia    Veggie Co.  \n",
      "2           1.0    5.0            Brazil  Beverage Co.  \n",
      "3           1.0    4.0            Canada    Snacks Co.  \n",
      "4           1.0    4.0            Canada      Seed Co.  \n"
     ]
    }
   ],
   "source": [
    "#Remove the $ from the entries in Price. \n",
    "\n",
    "df['Price'] = df['Price'].str.replace('$', '')\n",
    "#Change dtype of Price to float64.\n",
    "df['Price'] = df['Price'].astype('float64')\n",
    "#check dataframe\n",
    "print(df.head())\n"
   ]
  },
  {
   "cell_type": "code",
   "execution_count": 6,
   "id": "9c193943-b1da-400f-a8ab-1a44b50a661e",
   "metadata": {},
   "outputs": [
    {
     "data": {
      "text/html": [
       "<div>\n",
       "<style scoped>\n",
       "    .dataframe tbody tr th:only-of-type {\n",
       "        vertical-align: middle;\n",
       "    }\n",
       "\n",
       "    .dataframe tbody tr th {\n",
       "        vertical-align: top;\n",
       "    }\n",
       "\n",
       "    .dataframe thead th {\n",
       "        text-align: right;\n",
       "    }\n",
       "</style>\n",
       "<table border=\"1\" class=\"dataframe\">\n",
       "  <thead>\n",
       "    <tr style=\"text-align: right;\">\n",
       "      <th></th>\n",
       "      <th>Weight (lbs)</th>\n",
       "      <th>Price</th>\n",
       "    </tr>\n",
       "  </thead>\n",
       "  <tbody>\n",
       "    <tr>\n",
       "      <th>count</th>\n",
       "      <td>184.000000</td>\n",
       "      <td>184.000000</td>\n",
       "    </tr>\n",
       "    <tr>\n",
       "      <th>mean</th>\n",
       "      <td>1.030707</td>\n",
       "      <td>2.961957</td>\n",
       "    </tr>\n",
       "    <tr>\n",
       "      <th>std</th>\n",
       "      <td>1.119180</td>\n",
       "      <td>2.369909</td>\n",
       "    </tr>\n",
       "    <tr>\n",
       "      <th>min</th>\n",
       "      <td>0.100000</td>\n",
       "      <td>0.300000</td>\n",
       "    </tr>\n",
       "    <tr>\n",
       "      <th>25%</th>\n",
       "      <td>1.000000</td>\n",
       "      <td>1.500000</td>\n",
       "    </tr>\n",
       "    <tr>\n",
       "      <th>50%</th>\n",
       "      <td>1.000000</td>\n",
       "      <td>2.500000</td>\n",
       "    </tr>\n",
       "    <tr>\n",
       "      <th>75%</th>\n",
       "      <td>1.000000</td>\n",
       "      <td>4.000000</td>\n",
       "    </tr>\n",
       "    <tr>\n",
       "      <th>max</th>\n",
       "      <td>10.000000</td>\n",
       "      <td>20.000000</td>\n",
       "    </tr>\n",
       "  </tbody>\n",
       "</table>\n",
       "</div>"
      ],
      "text/plain": [
       "       Weight (lbs)       Price\n",
       "count    184.000000  184.000000\n",
       "mean       1.030707    2.961957\n",
       "std        1.119180    2.369909\n",
       "min        0.100000    0.300000\n",
       "25%        1.000000    1.500000\n",
       "50%        1.000000    2.500000\n",
       "75%        1.000000    4.000000\n",
       "max       10.000000   20.000000"
      ]
     },
     "execution_count": 6,
     "metadata": {},
     "output_type": "execute_result"
    }
   ],
   "source": [
    "# Check the descriptive statistics. \n",
    "\n",
    "df.describe()\n"
   ]
  },
  {
   "cell_type": "code",
   "execution_count": null,
   "id": "5ad6ee71-562e-4129-abec-37b3c52d7841",
   "metadata": {},
   "outputs": [],
   "source": []
  }
 ],
 "metadata": {
  "kernelspec": {
   "display_name": "Python 3 (ipykernel)",
   "language": "python",
   "name": "python3"
  },
  "language_info": {
   "codemirror_mode": {
    "name": "ipython",
    "version": 3
   },
   "file_extension": ".py",
   "mimetype": "text/x-python",
   "name": "python",
   "nbconvert_exporter": "python",
   "pygments_lexer": "ipython3",
   "version": "3.12.7"
  }
 },
 "nbformat": 4,
 "nbformat_minor": 5
}
