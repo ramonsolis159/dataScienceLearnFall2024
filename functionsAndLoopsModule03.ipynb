{
 "cells": [
  {
   "cell_type": "code",
   "execution_count": 1,
   "id": "fbe8af2d-d77b-4960-8f97-f5c8c46d3220",
   "metadata": {},
   "outputs": [
    {
     "name": "stdout",
     "output_type": "stream",
     "text": [
      "True\n",
      "False\n"
     ]
    }
   ],
   "source": [
    "# Ramon Montoya\n",
    "# Functions and Loops - Module 03 Example 01\n",
    "\n",
    "# Creating the set\n",
    "my_set = {1, 2, 3, 4, 5}\n",
    " \n",
    "# Adding elements to the set\n",
    "my_set.add(6)\n",
    "my_set.add(7)\n",
    " \n",
    "# Removing the elements from the set\n",
    "my_set.remove(3)\n",
    " \n",
    "# Checking the membership\n",
    "print(2 in my_set)  # Output: True\n",
    "print(10 in my_set) # Output: False\n"
   ]
  },
  {
   "cell_type": "code",
   "execution_count": 6,
   "id": "2e4415fd-6bbf-497b-b445-e00b0ccdb239",
   "metadata": {},
   "outputs": [
    {
     "name": "stdout",
     "output_type": "stream",
     "text": [
      "{1, 2, 3, 4, 5}\n"
     ]
    }
   ],
   "source": [
    "# The union() method.\n",
    "\n",
    "# union(): The union() method returns a new set containing all the unique elements present in either \n",
    "# of the two sets (or more, if provided as arguments). It essentially combines the elements of \n",
    "# both sets, removing any duplicates.\n",
    "\n",
    "set1 = {1, 2, 3}\n",
    "set2 = {3, 4, 5}\n",
    "union_set = set1.union(set2)\n",
    "print(union_set)  # Output: {1, 2, 3, 4, 5}\n"
   ]
  },
  {
   "cell_type": "code",
   "execution_count": 7,
   "id": "551f5c9c-8ec8-449a-b7d3-1119ced03d55",
   "metadata": {},
   "outputs": [
    {
     "name": "stdout",
     "output_type": "stream",
     "text": [
      "{3}\n"
     ]
    }
   ],
   "source": [
    "# The intersection() method.\n",
    "\n",
    "# The intersection() method returns a new set containing the common elements present in both sets \n",
    "# (or more, if provided as arguments). It only includes elements that are present in both sets. \n",
    "\n",
    "set1 = {1, 2, 3}\n",
    "set2 = {3, 4, 5}\n",
    "intersection_set = set1.intersection(set2)\n",
    "print(intersection_set)  # Output: {3}\n"
   ]
  },
  {
   "cell_type": "code",
   "execution_count": 5,
   "id": "44b9998c-8a13-49c1-ae93-d041be1f663d",
   "metadata": {},
   "outputs": [
    {
     "name": "stdout",
     "output_type": "stream",
     "text": [
      "{1, 2}\n"
     ]
    }
   ],
   "source": [
    "# The difference() method. \n",
    "\n",
    "# The difference() method returns a new set containing the elements that are present in the first set \n",
    "# but not in the second set (or sets). It essentially subtracts the elements of the second set \n",
    "# (or sets) from the first set. \n",
    "\n",
    "set1 = {1, 2, 3}\n",
    "set2 = {3, 4, 5}\n",
    "difference_set = set1.difference(set2)\n",
    "print(difference_set)  # Output: {1, 2}\n"
   ]
  },
  {
   "cell_type": "code",
   "execution_count": 8,
   "id": "a93d25da-d23c-4ecd-8aca-b67cede9b0be",
   "metadata": {},
   "outputs": [
    {
     "name": "stdout",
     "output_type": "stream",
     "text": [
      "{1, 2, 4, 5}\n"
     ]
    }
   ],
   "source": [
    "# The symmetric_difference() method. \n",
    "\n",
    "# The symmetric_difference() method returns a new set containing the elements that are present in either \n",
    "# of the sets, but not in both. It essentially returns the set of elements that are exclusive to each set. \n",
    "\n",
    "set1 = {1, 2, 3}\n",
    "set2 = {3, 4, 5}\n",
    "symmetric_difference_set = set1.symmetric_difference(set2)\n",
    "print(symmetric_difference_set)  # Output: {1, 2, 4, 5}\n"
   ]
  },
  {
   "cell_type": "code",
   "execution_count": 10,
   "id": "de65a97d-7511-450c-bf43-7bd74b959277",
   "metadata": {},
   "outputs": [],
   "source": [
    "#### ------ Functions for Reusable Code Blocks ------ #### \n",
    "\n",
    "# Functions in programming are blocks of reusable code that perform a specific task. They help break \n",
    "# down complex problems into smaller, more manageable parts, making code easier to understand, debug, \n",
    "# and maintain. \n"
   ]
  },
  {
   "cell_type": "code",
   "execution_count": 11,
   "id": "e5c5dbbc-643a-4675-8be6-28a4ee5be395",
   "metadata": {},
   "outputs": [
    {
     "name": "stdout",
     "output_type": "stream",
     "text": [
      "Hello, Alice!\n",
      "Hello, Bob!\n"
     ]
    }
   ],
   "source": [
    "# Function Example 01 \n",
    "\n",
    "def greet(name):\n",
    "    \"\"\"A function to greet the user.\"\"\"\n",
    "    print(\"Hello, \" + name + \"!\")\n",
    " \n",
    " \n",
    "# Call the function\n",
    "greet(\"Alice\")    # Hello, Alice!\n",
    "greet(\"Bob\")      # Hello, Bob!\n"
   ]
  },
  {
   "cell_type": "code",
   "execution_count": 12,
   "id": "bac3ce3e-bf81-4a11-b4cf-ef22e14bea52",
   "metadata": {},
   "outputs": [
    {
     "name": "stdout",
     "output_type": "stream",
     "text": [
      "Survival rates by gender:\n",
      "Sex\n",
      "female    0.742038\n",
      "male      0.188908\n",
      "Name: Survived, dtype: float64\n"
     ]
    }
   ],
   "source": [
    "# Example of a function using the Titanic dataset.\n",
    "\n",
    "#import library\n",
    "import pandas as pd\n",
    " \n",
    "def analyze_survival_by_gender(dataset):\n",
    "    \"\"\"\n",
    "    Analyzes the survival rate of passengers based on their gender.\n",
    "    Parameters:\n",
    "    - dataset: The Titanic dataset containing information about passengers.\n",
    "    Returns:\n",
    "    - survival_rates: A dictionary containing the survival rates for males and females.\n",
    "    \"\"\"\n",
    "    # Group the dataset by 'Sex' and calculate the survival rate for each gender\n",
    "    survival_rates = dataset.groupby('Sex')['Survived'].mean()\n",
    " \n",
    "    # Print the survival rates\n",
    "    print(\"Survival rates by gender:\")\n",
    "    print(survival_rates)\n",
    " \n",
    "# Load the Titanic dataset\n",
    "titanic_data = pd.read_csv('titanic_train.csv')\n",
    " \n",
    "# Call the function\n",
    "survival_rates = analyze_survival_by_gender(titanic_data)\n"
   ]
  },
  {
   "cell_type": "code",
   "execution_count": 13,
   "id": "db492dc7-5337-4f4b-ac4f-391c05d52f6f",
   "metadata": {},
   "outputs": [],
   "source": [
    "# Loops for Repetitive Actions \n",
    "\n",
    "# Loops in programming are constructs that allow you to execute a block of code repeatedly. They are \n",
    "# essential for automating repetitive tasks and iterating over collections of data. There are primarily \n",
    "# two types of loops: \n"
   ]
  },
  {
   "cell_type": "code",
   "execution_count": 14,
   "id": "132fee9c-c93c-4503-8288-daefcc46ff29",
   "metadata": {},
   "outputs": [
    {
     "name": "stdout",
     "output_type": "stream",
     "text": [
      "0\n",
      "1\n",
      "2\n",
      "3\n",
      "4\n"
     ]
    }
   ],
   "source": [
    "# For Loop Example 01 \n",
    "\n",
    "# A for loop iterates over a sequence (such as a list, tuple, or string) or any iterable object. It \n",
    "# executes a block of code once for each item in the sequence. The loop variable takes on each value in \n",
    "# the sequence one by one. \n",
    "\n",
    "# Example of a for loop\n",
    "for i in range(5):\n",
    "    print(i)\n",
    "\n"
   ]
  },
  {
   "cell_type": "code",
   "execution_count": 15,
   "id": "68b5416c-ec37-40bc-bfd2-3078dc38eb25",
   "metadata": {},
   "outputs": [
    {
     "name": "stdout",
     "output_type": "stream",
     "text": [
      "0\n",
      "1\n",
      "2\n",
      "3\n",
      "4\n"
     ]
    }
   ],
   "source": [
    "# While Loop Example 01 \n",
    "\n",
    "# A while loop repeatedly executes a block of code as long as a specified condition is true. It \n",
    "# continues executing until the condition becomes false.\n",
    "\n",
    "# Example of a while loop\n",
    "i = 0\n",
    "while i < 5:\n",
    "    print(i)\n",
    "    i += 1\n",
    "\n"
   ]
  },
  {
   "cell_type": "code",
   "execution_count": 16,
   "id": "767c33ba-2ba6-4f54-adb8-820f8d61d080",
   "metadata": {},
   "outputs": [
    {
     "name": "stdout",
     "output_type": "stream",
     "text": [
      "Passenger counts by class:\n",
      "Class 1: 216\n",
      "Class 2: 184\n",
      "Class 3: 491\n"
     ]
    }
   ],
   "source": [
    "# For Loop Using the TItanic Dataset\n",
    "\n",
    "#import library\n",
    "import pandas as pd\n",
    " \n",
    "# Load the Titanic dataset\n",
    "titanic_data = pd.read_csv('titanic_train.csv')\n",
    " \n",
    "# Create a dictionary to store the count of passengers in each class\n",
    "passenger_class_count = {1: 0, 2: 0, 3: 0}\n",
    " \n",
    "# Iterate over the dataset and count passengers in each class\n",
    "for index, row in titanic_data.iterrows():\n",
    "    passenger_class = row['Pclass']\n",
    "    passenger_class_count[passenger_class] += 1\n",
    " \n",
    "# Print the count of passengers in each class\n",
    "print(\"Passenger counts by class:\")\n",
    "for passenger_class, count in passenger_class_count.items():\n",
    "    print(f\"Class {passenger_class}: {count}\")\n",
    "\n"
   ]
  },
  {
   "cell_type": "code",
   "execution_count": 17,
   "id": "231d966d-c2c3-4e9e-b1e4-29010c3c578a",
   "metadata": {},
   "outputs": [],
   "source": [
    "## End of Examples 01 ## \n"
   ]
  },
  {
   "cell_type": "code",
   "execution_count": null,
   "id": "906d971a-d3c2-4990-bb4c-357f8e9ecbe8",
   "metadata": {},
   "outputs": [],
   "source": []
  }
 ],
 "metadata": {
  "kernelspec": {
   "display_name": "Python 3 (ipykernel)",
   "language": "python",
   "name": "python3"
  },
  "language_info": {
   "codemirror_mode": {
    "name": "ipython",
    "version": 3
   },
   "file_extension": ".py",
   "mimetype": "text/x-python",
   "name": "python",
   "nbconvert_exporter": "python",
   "pygments_lexer": "ipython3",
   "version": "3.12.7"
  }
 },
 "nbformat": 4,
 "nbformat_minor": 5
}
