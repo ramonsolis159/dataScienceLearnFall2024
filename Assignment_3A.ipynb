{
 "cells": [
  {
   "cell_type": "code",
   "execution_count": null,
   "id": "98399f46-980c-48f6-9e24-697fa593b1ee",
   "metadata": {},
   "outputs": [],
   "source": [
    "# Ramon Montoya\n",
    "# Assignment 3A: Using Functions and Loops. \n",
    "# Parts 1, 2, 3\n",
    "\n",
    "# Create sets of fruits. The set1 should contain apple, banana, orange, kiwi. \n",
    "# The set2 should contain banana, grape, watermelon, and kiwi.\n",
    "# Creating the set of fruits. \n",
    "fruitSet01 = {\"apple\", \"banana\", \"orange\", \"kiwi\"}\n",
    "fruitSet02 = {\"banana\", \"grape\", \"watermelon\", \"kiwi\"}\n",
    "\n",
    "# Use the union method to print 'Union of set1 and set2:' and the result. \n",
    "union_fruit = fruitSet01.union(fruitSet02)\n",
    "print(union_fruit) \n",
    "\n",
    "# Use the intersection method to print 'Intersection of set1 and set2:' and the result. \n",
    "intersection_fruit = fruitSet01.intersection(fruitSet02)\n",
    "print(intersection_fruit)\n",
    "\n",
    "# Use the difference method to print 'Difference between set1 and set2:' and the result. \n",
    "difference_fruit = fruitSet01.difference(fruitSet02)\n",
    "print(difference_fruit)\n",
    "\n",
    "# Use the symmetric difference method to print 'Symmetric difference between set1 and set2:' \n",
    "# and the result. \n",
    "sym_difference_fruit = fruitSet01.symmetric_difference(fruitSet02)\n",
    "print(sym_difference_fruit)\n",
    "\n",
    "# Use the union method to print 'Union of set1 and set2:' and the result. \n",
    "union_fruit = fruitSet01.union(fruitSet02)\n",
    "print(union_fruit) \n"
   ]
  },
  {
   "cell_type": "code",
   "execution_count": 1,
   "id": "88ebe22d-3d0c-4ea5-9db1-cfa93e33e9ff",
   "metadata": {},
   "outputs": [],
   "source": [
    "# Creating the set of fruits. \n",
    "fruitSet01 = {\"apple\", \"banana\", \"orange\", \"kiwi\"}\n",
    "fruitSet02 = {\"banana\", \"grape\", \"watermelon\", \"kiwi\"}\n"
   ]
  },
  {
   "cell_type": "code",
   "execution_count": 2,
   "id": "65a46598-5413-44ba-8479-e90600f451c2",
   "metadata": {},
   "outputs": [
    {
     "name": "stdout",
     "output_type": "stream",
     "text": [
      "{'watermelon', 'kiwi', 'grape', 'banana', 'orange', 'apple'}\n"
     ]
    }
   ],
   "source": [
    "# Use the union method to print 'Union of set1 and set2:' and the result. \n",
    "union_fruit = fruitSet01.union(fruitSet02)\n",
    "print(union_fruit) \n"
   ]
  },
  {
   "cell_type": "code",
   "execution_count": 3,
   "id": "fb5ccb92-cf52-40ce-87ac-e390d2fa5d9e",
   "metadata": {},
   "outputs": [
    {
     "name": "stdout",
     "output_type": "stream",
     "text": [
      "{'banana', 'kiwi'}\n"
     ]
    }
   ],
   "source": [
    "# Use the intersection method to print 'Intersection of set1 and set2:' and the result. \n",
    "intersection_fruit = fruitSet01.intersection(fruitSet02)\n",
    "print(intersection_fruit)\n"
   ]
  },
  {
   "cell_type": "code",
   "execution_count": 4,
   "id": "5c3752e8-c827-4cdc-bd14-4cbd9c72ea3b",
   "metadata": {},
   "outputs": [
    {
     "name": "stdout",
     "output_type": "stream",
     "text": [
      "{'orange', 'apple'}\n"
     ]
    }
   ],
   "source": [
    "# Use the difference method to print 'Difference between set1 and set2:' and the result. \n",
    "difference_fruit = fruitSet01.difference(fruitSet02)\n",
    "print(difference_fruit)\n"
   ]
  },
  {
   "cell_type": "code",
   "execution_count": 5,
   "id": "8d2109e6-a25e-4742-b3d9-119fd6ee6dfc",
   "metadata": {},
   "outputs": [
    {
     "name": "stdout",
     "output_type": "stream",
     "text": [
      "{'watermelon', 'grape', 'orange', 'apple'}\n"
     ]
    }
   ],
   "source": [
    "# Use the symmetric difference method to print 'Symmetric difference between set1 and set2:' \n",
    "# and the result. \n",
    "sym_difference_fruit = fruitSet01.symmetric_difference(fruitSet02)\n",
    "print(sym_difference_fruit)\n"
   ]
  },
  {
   "cell_type": "code",
   "execution_count": 6,
   "id": "89bdd9cd-06f4-43ed-a400-d69b058c0890",
   "metadata": {},
   "outputs": [
    {
     "name": "stdout",
     "output_type": "stream",
     "text": [
      "{'watermelon', 'kiwi', 'grape', 'banana', 'orange', 'apple'}\n"
     ]
    }
   ],
   "source": [
    "# Use the union method to print 'Union of set1 and set2:' and the result. \n",
    "union_fruit = fruitSet01.union(fruitSet02)\n",
    "print(union_fruit) \n"
   ]
  },
  {
   "cell_type": "code",
   "execution_count": null,
   "id": "5bbd3732-3aca-4aee-9a2d-187938b7e18c",
   "metadata": {},
   "outputs": [],
   "source": [
    "# Ramon Montoya \n",
    "# Part 2\n",
    "\n",
    "# Import the pandas library. \n",
    "import pandas as pd\n",
    "\n",
    "# Load the Titanic dataset as a dataframe titanic_data.\n",
    "titanic_data = pd.read_csv(\"titanic_train.csv\")\n",
    "\n",
    "# Summarize the dataset.\n",
    "print(titanic_data.info())\n",
    "\n",
    "# Use the following code to determine the possibilities for the cities the Titanic embarked from. \n",
    "# Note: nan is the result given when there is no data.\n",
    "# titanic_data['Embarked'].unique()\n",
    "embark_cities = titanic_data['Embarked'].unique()\n",
    "print(\"Possible cities that the Titanic embarked from: \", embark_cities)\n",
    "\n",
    "# Fill blank fields in Embarked with X using the following code. Check the data for cities again.\n",
    "# titanic_data['Embarked'].fillna('X', inplace=True)\n",
    "embark_cities = titanic_data['Embarked'].fillna('X', inplace=True)\n",
    "embark_cities = titanic_data['Embarked'].unique()\n",
    "print(\"Possible cities that the Titanic embarked from: \", embark_cities)\n",
    "\n",
    "# Create a dictionary (passenger_city_count) to store the count of passengers who departed from each \n",
    "# city. Remember that string data needs to be inside quotations (ex. 'string' )\n",
    "passenger_city_count = {'S': 0, 'C': 0, 'Q': 0, 'X': 0}\n",
    "\n",
    "# Iterate over the dataset and count passengers in from each city. \n",
    "for index, row in titanic_data.iterrows(): \n",
    "    passenger_city = row['Embarked']\n",
    "    passenger_city_count[passenger_city] += 1\n",
    "\n",
    "# Print the Passenger counts by Embarked from City. \n",
    "print(\"Passenger counts by Embarked from City: \")\n",
    "for passenger_city, count in passenger_city_count.items():\n",
    "    print(f\"City {passenger_city}: {count}\") \n"
   ]
  },
  {
   "cell_type": "code",
   "execution_count": 14,
   "id": "ee308c94-ea66-41b9-8d56-ab2e5c1b4bfe",
   "metadata": {},
   "outputs": [],
   "source": [
    "# Import the pandas library. \n",
    "import pandas as pd\n"
   ]
  },
  {
   "cell_type": "code",
   "execution_count": 16,
   "id": "46937a15-f87c-48b6-950a-89758568a270",
   "metadata": {},
   "outputs": [],
   "source": [
    "# Load the Titanic dataset as a dataframe titanic_data.\n",
    "titanic_data = pd.read_csv(\"titanic_train.csv\")\n"
   ]
  },
  {
   "cell_type": "code",
   "execution_count": 18,
   "id": "ca4b2ec5-92fa-4ca6-aa50-baa37b89943a",
   "metadata": {},
   "outputs": [
    {
     "name": "stdout",
     "output_type": "stream",
     "text": [
      "<class 'pandas.core.frame.DataFrame'>\n",
      "RangeIndex: 891 entries, 0 to 890\n",
      "Data columns (total 12 columns):\n",
      " #   Column       Non-Null Count  Dtype  \n",
      "---  ------       --------------  -----  \n",
      " 0   PassengerId  891 non-null    int64  \n",
      " 1   Survived     891 non-null    int64  \n",
      " 2   Pclass       891 non-null    int64  \n",
      " 3   Name         891 non-null    object \n",
      " 4   Sex          891 non-null    object \n",
      " 5   Age          714 non-null    float64\n",
      " 6   SibSp        891 non-null    int64  \n",
      " 7   Parch        891 non-null    int64  \n",
      " 8   Ticket       891 non-null    object \n",
      " 9   Fare         891 non-null    float64\n",
      " 10  Cabin        204 non-null    object \n",
      " 11  Embarked     889 non-null    object \n",
      "dtypes: float64(2), int64(5), object(5)\n",
      "memory usage: 83.7+ KB\n",
      "None\n"
     ]
    }
   ],
   "source": [
    "# Summarize the dataset.\n",
    "print(titanic_data.info())\n"
   ]
  },
  {
   "cell_type": "code",
   "execution_count": 19,
   "id": "12af8eef-67b5-457a-a1f5-bc1ecba018bd",
   "metadata": {},
   "outputs": [
    {
     "name": "stdout",
     "output_type": "stream",
     "text": [
      "Possible cities that the Titanic embarked from:  ['S' 'C' 'Q' nan]\n"
     ]
    }
   ],
   "source": [
    "# Use the following code to determine the possibilities for the cities the Titanic embarked from. \n",
    "# Note: nan is the result given when there is no data.\n",
    "# titanic_data['Embarked'].unique() \n",
    "embark_cities = titanic_data['Embarked'].unique()\n",
    "print(\"Possible cities that the Titanic embarked from: \", embark_cities)\n"
   ]
  },
  {
   "cell_type": "code",
   "execution_count": 22,
   "id": "e0d239b7-f282-4fa5-bd2a-cd7dcb2b1425",
   "metadata": {},
   "outputs": [
    {
     "name": "stdout",
     "output_type": "stream",
     "text": [
      "Possible cities that the Titanic embarked from:  ['S' 'C' 'Q' 'X']\n"
     ]
    }
   ],
   "source": [
    "# Fill blank fields in Embarked with X using the following code. Check the data for cities again.\n",
    "# titanic_data['Embarked'].fillna('X', inplace=True)\n",
    "embark_cities = titanic_data['Embarked'].fillna('X', inplace=True)\n",
    "embark_cities = titanic_data['Embarked'].unique()\n",
    "print(\"Possible cities that the Titanic embarked from: \", embark_cities)\n"
   ]
  },
  {
   "cell_type": "code",
   "execution_count": 24,
   "id": "58a018fa-6ac0-48d7-b80d-71c4f366dbbd",
   "metadata": {},
   "outputs": [],
   "source": [
    "# Create a dictionary (passenger_city_count) to store the count of passengers who departed from each \n",
    "# city. Remember that string data needs to be inside quotations (ex. 'string' ) \n",
    "passenger_city_count = {'S': 0, 'C': 0, 'Q': 0, 'X': 0}\n",
    "                        "
   ]
  },
  {
   "cell_type": "code",
   "execution_count": 25,
   "id": "b1dd23bf-df40-4e95-88e4-a094797c3097",
   "metadata": {},
   "outputs": [],
   "source": [
    "# Iterate over the dataset and count passengers in from each city. \n",
    "for index, row in titanic_data.iterrows(): \n",
    "    passenger_city = row['Embarked']\n",
    "    passenger_city_count[passenger_city] += 1\n"
   ]
  },
  {
   "cell_type": "code",
   "execution_count": 27,
   "id": "980c4ef0-0348-447c-8040-5cd3e70e2fa9",
   "metadata": {},
   "outputs": [
    {
     "name": "stdout",
     "output_type": "stream",
     "text": [
      "Passenger counts by Embarked from City: \n",
      "City S: 644\n",
      "City C: 168\n",
      "City Q: 77\n",
      "City X: 2\n"
     ]
    }
   ],
   "source": [
    "# Print the Passenger counts by Embarked from City. \n",
    "print(\"Passenger counts by Embarked from City: \")\n",
    "for passenger_city, count in passenger_city_count.items():\n",
    "    print(f\"City {passenger_city}: {count}\")\n",
    "    "
   ]
  },
  {
   "cell_type": "code",
   "execution_count": null,
   "id": "e25e3a80-bb37-4827-b611-0de69a7c22fe",
   "metadata": {},
   "outputs": [],
   "source": [
    "# Ramon Montoya\n",
    "# Part 3\n",
    "\n",
    "# Import the pandas library.\n",
    "import pandas as pd\n",
    "\n",
    "# Load the grocery dataset as a dataframe grocery_data.\n",
    "grocery_data = pd.read_csv(\"grocery.csv\")\n",
    "\n",
    "# Summarize the dataset.\n",
    "print(grocery_data.info())\n",
    "\n",
    "# Determine the possibilities for the Country of Origin for the products in the grocery dataset. \n",
    "country_of_origin = grocery_data['Country of Origin'].unique()\n",
    "print(\"Country of Origin Possibilites for grocery products: \", country_of_origin)\n",
    "\n",
    "# Create a dictionary (product_country_count) to store the count of products from each country of origin. \n",
    "country_origin_count = {'United States': 0, 'Colombia': 0, 'Brazil': 0, 'Canada': 0, 'Ecuador': 0, \n",
    "                        'France': 0, 'Madagascar': 0, 'Mexico': 0, 'Norway': 0, 'Peru': 0, 'Portugal': 0}\n",
    "\n",
    "# Iterate over the dataset and count products from each country.\n",
    "for index, row in grocery_data.iterrows(): \n",
    "    country_origin = row['Country of Origin']\n",
    "    country_origin_count[country_origin] += 1\n",
    "\n",
    "# Print the Product counts by Country of Origin. \n",
    "print(\"The Product Counts by Country of Origin: \")\n",
    "for country_origin, count in country_origin_count.items():\n",
    "    print(f\"Country {country_origin}: {count}\")\n"
   ]
  },
  {
   "cell_type": "code",
   "execution_count": 28,
   "id": "1fbb4e67-ee2b-4cbb-84b4-cc3f57ce0706",
   "metadata": {},
   "outputs": [],
   "source": [
    "# Import the pandas library.\n",
    "import pandas as pd\n"
   ]
  },
  {
   "cell_type": "code",
   "execution_count": 30,
   "id": "4f41235d-0501-49ac-96b5-b559756626fc",
   "metadata": {},
   "outputs": [],
   "source": [
    "# Load the grocery dataset as a dataframe grocery_data.\n",
    "grocery_data = pd.read_csv(\"grocery.csv\")\n"
   ]
  },
  {
   "cell_type": "code",
   "execution_count": 31,
   "id": "059a578b-2bdb-45fe-9eea-f1cb0b980bd6",
   "metadata": {},
   "outputs": [
    {
     "name": "stdout",
     "output_type": "stream",
     "text": [
      "<class 'pandas.core.frame.DataFrame'>\n",
      "RangeIndex: 184 entries, 0 to 183\n",
      "Data columns (total 7 columns):\n",
      " #   Column                  Non-Null Count  Dtype  \n",
      "---  ------                  --------------  -----  \n",
      " 0   tem                     184 non-null    object \n",
      " 1   Category                184 non-null    object \n",
      " 2   Refrigeration Required  184 non-null    object \n",
      " 3   Weight (lbs)            184 non-null    float64\n",
      " 4   Price                   184 non-null    object \n",
      " 5   Country of Origin       184 non-null    object \n",
      " 6   Manufacturer            183 non-null    object \n",
      "dtypes: float64(1), object(6)\n",
      "memory usage: 10.2+ KB\n",
      "None\n"
     ]
    }
   ],
   "source": [
    "# Summarize the dataset.\n",
    "print(grocery_data.info())\n"
   ]
  },
  {
   "cell_type": "code",
   "execution_count": 32,
   "id": "91fd3091-07e8-4646-a420-74e9e494bfd3",
   "metadata": {},
   "outputs": [
    {
     "name": "stdout",
     "output_type": "stream",
     "text": [
      "Country of Origin Possibilites for grocery products:  ['United States' 'Colombia' 'Brazil' 'Canada' 'Ecuador' 'France'\n",
      " 'Madagascar' 'Mexico' 'Norway' 'Peru' 'Portugal']\n"
     ]
    }
   ],
   "source": [
    "# Determine the possibilities for the Country of Origin for the products in the grocery dataset. \n",
    "country_of_origin = grocery_data['Country of Origin'].unique()\n",
    "print(\"Country of Origin Possibilites for grocery products: \", country_of_origin)\n"
   ]
  },
  {
   "cell_type": "code",
   "execution_count": 33,
   "id": "03261b6b-c777-4d4f-b4c0-5ca97b8140c6",
   "metadata": {},
   "outputs": [],
   "source": [
    "# Create a dictionary (product_country_count) to store the count of products from each country of origin.\n",
    "country_origin_count = {'United States': 0, 'Colombia': 0, 'Brazil': 0, 'Canada': 0, 'Ecuador': 0, \n",
    "                        'France': 0, 'Madagascar': 0, 'Mexico': 0, 'Norway': 0, 'Peru': 0, 'Portugal': 0}\n"
   ]
  },
  {
   "cell_type": "code",
   "execution_count": 34,
   "id": "5adca506-1eaa-4cc5-87cd-e963c456ae34",
   "metadata": {},
   "outputs": [],
   "source": [
    "# Iterate over the dataset and count products from each country. \n",
    "for index, row in grocery_data.iterrows(): \n",
    "    country_origin = row['Country of Origin']\n",
    "    country_origin_count[country_origin] += 1\n",
    "    "
   ]
  },
  {
   "cell_type": "code",
   "execution_count": 35,
   "id": "e0d5c6ad-befd-4a99-a41b-a87fd371fb4f",
   "metadata": {},
   "outputs": [
    {
     "name": "stdout",
     "output_type": "stream",
     "text": [
      "The Product Counts by Country of Origin: \n",
      "Country United States: 166\n",
      "Country Colombia: 1\n",
      "Country Brazil: 1\n",
      "Country Canada: 2\n",
      "Country Ecuador: 1\n",
      "Country France: 1\n",
      "Country Madagascar: 1\n",
      "Country Mexico: 8\n",
      "Country Norway: 1\n",
      "Country Peru: 1\n",
      "Country Portugal: 1\n"
     ]
    }
   ],
   "source": [
    "# Print the Product counts by Country of Origin. \n",
    "print(\"The Product Counts by Country of Origin: \")\n",
    "for country_origin, count in country_origin_count.items():\n",
    "    print(f\"Country {country_origin}: {count}\")\n",
    "    "
   ]
  },
  {
   "cell_type": "code",
   "execution_count": null,
   "id": "e0e80465-1671-45b4-80b6-a025e9ba2130",
   "metadata": {},
   "outputs": [],
   "source": []
  }
 ],
 "metadata": {
  "kernelspec": {
   "display_name": "Python 3 (ipykernel)",
   "language": "python",
   "name": "python3"
  },
  "language_info": {
   "codemirror_mode": {
    "name": "ipython",
    "version": 3
   },
   "file_extension": ".py",
   "mimetype": "text/x-python",
   "name": "python",
   "nbconvert_exporter": "python",
   "pygments_lexer": "ipython3",
   "version": "3.12.7"
  }
 },
 "nbformat": 4,
 "nbformat_minor": 5
}
