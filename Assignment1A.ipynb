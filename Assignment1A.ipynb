{
 "cells": [
  {
   "cell_type": "code",
   "execution_count": 3,
   "id": "e44b0909-e5e4-474f-98d0-da21b7b30bf5",
   "metadata": {},
   "outputs": [
    {
     "name": "stdout",
     "output_type": "stream",
     "text": [
      "Sum of number1 and number2: 30\n",
      "Difference between number2 and number1: 10\n"
     ]
    }
   ],
   "source": [
    "# Create variables. This first is a variable named 'number1' with a value of 10. The second \n",
    "# is a variable named 'number2' with a value of 20.  \n",
    "number1 = 10 \n",
    "number2 = 20 \n",
    "# Perform arithmetic operations. The + operator adds the variables. The - operator subtracts \n",
    "# the first variable from the second.\n",
    "sum = number1 + number2 \n",
    "difference = number2 - number1 \n",
    "# Print results. Remember: Put text in \"\" to display. The variable has been defined and will \n",
    "# display the calculation \n",
    "print(\"Sum of number1 and number2:\", sum) \n",
    "print(\"Difference between number2 and number1:\", difference) \n",
    "\n"
   ]
  },
  {
   "cell_type": "code",
   "execution_count": 4,
   "id": "af414555-cc3a-46d2-94c9-46bff5308f91",
   "metadata": {},
   "outputs": [
    {
     "name": "stdout",
     "output_type": "stream",
     "text": [
      "number1 is not greater than number2\n"
     ]
    }
   ],
   "source": [
    "# Use an if-else statement to compare numbers. The < and > operators are used for greater\n",
    "# than and less than. \n",
    "\n",
    "if number1 > number2: \n",
    "    print(\"number1 is greater than number2\") \n",
    "else: \n",
    "    print(\"number1 is not greater than number2\") \n",
    "\n"
   ]
  },
  {
   "cell_type": "code",
   "execution_count": null,
   "id": "b3e6544a-1b69-4104-85dd-b7d30f2bc00c",
   "metadata": {},
   "outputs": [],
   "source": []
  }
 ],
 "metadata": {
  "kernelspec": {
   "display_name": "Python 3 (ipykernel)",
   "language": "python",
   "name": "python3"
  },
  "language_info": {
   "codemirror_mode": {
    "name": "ipython",
    "version": 3
   },
   "file_extension": ".py",
   "mimetype": "text/x-python",
   "name": "python",
   "nbconvert_exporter": "python",
   "pygments_lexer": "ipython3",
   "version": "3.12.7"
  }
 },
 "nbformat": 4,
 "nbformat_minor": 5
}
